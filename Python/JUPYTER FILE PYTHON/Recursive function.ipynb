{
 "cells": [
  {
   "cell_type": "markdown",
   "metadata": {},
   "source": [
    "# Recursion:"
   ]
  },
  {
   "cell_type": "markdown",
   "metadata": {},
   "source": [
    "We know that in python, a function can call other function. It is even posible for the function to call itself. These type of construct are termed as recursive function."
   ]
  },
  {
   "cell_type": "markdown",
   "metadata": {},
   "source": [
    "# Example:"
   ]
  },
  {
   "cell_type": "code",
   "execution_count": 1,
   "metadata": {},
   "outputs": [
    {
     "name": "stdout",
     "output_type": "stream",
     "text": [
      "enter the value of num: 5\n",
      "factorial of 5 is 120\n"
     ]
    }
   ],
   "source": [
    "# python program to print factorial of a number using recurion/recursive function\n",
    "\n",
    "def factorial(num):   \n",
    "    \"\"\"\n",
    "    This  is a recursive function to find the factorial of a given number\n",
    "    \"\"\"\n",
    "    if num == 1:\n",
    "        return 1\n",
    "    else:\n",
    "        return (num * factorial(num-1))\n",
    "    #return 1 if num == 1 else (num * factorial(num -1 ))\n",
    "\n",
    "num = int(input(\"enter the value of num: \"))\n",
    "print(\"factorial of {0} is {1}\".format(num,factorial(num)))\n",
    "\n",
    "\n",
    "# 6*120=720"
   ]
  },
  {
   "cell_type": "code",
   "execution_count": null,
   "metadata": {},
   "outputs": [],
   "source": [
    "#  factorical (5 )\n",
    "#1)num = 5   ---> if num == 1 false ---> return (5* factorial(4))     # stack data structure index1  # 5 * 24 = 120\n",
    "#2) num = 4   ---> if 4 == 1 false ---> return ( 4 * factorial(3))     # index 2   # 4 * 6 = 24 \n",
    "# 3) num = 3 ---> if 3 == 1 false ---> return (3 * factorial(2))      # index 3   # 3 * 2 = 6\n",
    "#4) num == 2 ---> if 2 == 1 false ---> return ( 2 * factorial(1))      # index 4   # 2*1 = 2\n",
    "#5) num == 1  ---> if 1 ==1 true  return 1"
   ]
  },
  {
   "cell_type": "markdown",
   "metadata": {},
   "source": [
    "# Advantages:"
   ]
  },
  {
   "cell_type": "code",
   "execution_count": null,
   "metadata": {},
   "outputs": [],
   "source": []
  },
  {
   "cell_type": "markdown",
   "metadata": {},
   "source": [
    "1. Recursive function make the code look clean and elegent.\n",
    "2. A complex task can be broken down into simpler sub- problems using recursion.\n",
    "3. Sequence generation is easior with recursion than using some nested iteration."
   ]
  },
  {
   "cell_type": "markdown",
   "metadata": {},
   "source": [
    "# Disadvantages:"
   ]
  },
  {
   "cell_type": "markdown",
   "metadata": {},
   "source": [
    "1. Sometimes the logic behind recursion is harf to follow through.\n",
    "2. Recursive calls are expensive(inefficient) as they take up lot of memory and time.\n",
    "3. Recursive function hard to debug."
   ]
  },
  {
   "cell_type": "markdown",
   "metadata": {},
   "source": [
    "# Python Program to display the fibonacci sequence up to n-th term using recursive function"
   ]
  },
  {
   "cell_type": "code",
   "execution_count": 1,
   "metadata": {},
   "outputs": [
    {
     "name": "stdout",
     "output_type": "stream",
     "text": [
      "entere the value of nitems:  15\n",
      "Fibonacci Sequence\n",
      "0\n",
      "1\n",
      "1\n",
      "2\n",
      "3\n",
      "5\n",
      "8\n",
      "13\n",
      "21\n",
      "34\n",
      "55\n",
      "89\n",
      "144\n",
      "233\n",
      "377\n"
     ]
    }
   ],
   "source": [
    "def  fibonacci(num):  # num 3 \n",
    "    \"\"\"\n",
    "    Recursive function to print fibonaaci sequence\n",
    "    \"\"\"\n",
    "    if  num==0 or num == 1:\n",
    "        return num\n",
    "    else:\n",
    "        return fibonacci(num-1) + fibonacci(num-2)     # fib(2) + fib(1) ---> 1 + 1 = 2\n",
    "   # return num if num <=1 else fibonacci(num-1) + fibonacci(num-2)\n",
    "\n",
    "nterms = int(input(\"entere the value of nitems:  \"))   # 4\n",
    "print(\"Fibonacci Sequence\")\n",
    "for num in range(nterms): # [0,1,2,3]\n",
    "    print(fibonacci(num))  # 3"
   ]
  },
  {
   "cell_type": "code",
   "execution_count": null,
   "metadata": {},
   "outputs": [],
   "source": []
  }
 ],
 "metadata": {
  "kernelspec": {
   "display_name": "Python 3 (ipykernel)",
   "language": "python",
   "name": "python3"
  },
  "language_info": {
   "codemirror_mode": {
    "name": "ipython",
    "version": 3
   },
   "file_extension": ".py",
   "mimetype": "text/x-python",
   "name": "python",
   "nbconvert_exporter": "python",
   "pygments_lexer": "ipython3",
   "version": "3.9.7"
  }
 },
 "nbformat": 4,
 "nbformat_minor": 2
}
