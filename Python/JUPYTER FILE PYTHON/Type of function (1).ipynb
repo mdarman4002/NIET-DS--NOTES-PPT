{
 "cells": [
  {
   "cell_type": "markdown",
   "metadata": {},
   "source": [
    "# Type of Functions"
   ]
  },
  {
   "cell_type": "markdown",
   "metadata": {},
   "source": [
    "1. Built in Functions\n",
    "2. User Define Functions"
   ]
  },
  {
   "cell_type": "markdown",
   "metadata": {},
   "source": [
    "# Built in Functions\n",
    "\n",
    "Functions that are built into Python."
   ]
  },
  {
   "cell_type": "markdown",
   "metadata": {},
   "source": [
    "# 1. abs()"
   ]
  },
  {
   "cell_type": "code",
   "execution_count": 1,
   "metadata": {},
   "outputs": [
    {
     "name": "stdout",
     "output_type": "stream",
     "text": [
      "100.58\n"
     ]
    }
   ],
   "source": [
    "# find the absolute value\n",
    "\n",
    "num = -100.58\n",
    "print(abs(num))"
   ]
  },
  {
   "cell_type": "markdown",
   "metadata": {},
   "source": [
    "# 2. all()"
   ]
  },
  {
   "cell_type": "markdown",
   "metadata": {},
   "source": [
    "return values of all function\n",
    "\n",
    "True: if all elements in an iterable are true\n",
    "\n",
    "False: if any element in an iterable is false"
   ]
  },
  {
   "cell_type": "code",
   "execution_count": 3,
   "metadata": {},
   "outputs": [
    {
     "name": "stdout",
     "output_type": "stream",
     "text": [
      "True\n"
     ]
    }
   ],
   "source": [
    "lst = [ 1,2,3,4,-15,-10]\n",
    "print(all(lst))"
   ]
  },
  {
   "cell_type": "code",
   "execution_count": 4,
   "metadata": {},
   "outputs": [
    {
     "name": "stdout",
     "output_type": "stream",
     "text": [
      "False\n"
     ]
    }
   ],
   "source": [
    "lst = [ 0,1,2,3]     # 0 present in list\n",
    "print(all(lst))"
   ]
  },
  {
   "cell_type": "code",
   "execution_count": 5,
   "metadata": {},
   "outputs": [
    {
     "name": "stdout",
     "output_type": "stream",
     "text": [
      "True\n",
      "True\n"
     ]
    }
   ],
   "source": [
    "lst = []             # empty list always true   #  \"\\0\"\n",
    "print(all(lst))\n",
    "str1 = \"\"\n",
    "print(all(str1))"
   ]
  },
  {
   "cell_type": "code",
   "execution_count": 6,
   "metadata": {},
   "outputs": [
    {
     "name": "stdout",
     "output_type": "stream",
     "text": [
      "False\n"
     ]
    }
   ],
   "source": [
    "lst = [False,1,2]     # False present in a list so all(lst) is false \n",
    "print(all(lst))"
   ]
  },
  {
   "cell_type": "markdown",
   "metadata": {},
   "source": [
    "# 3. dir()"
   ]
  },
  {
   "cell_type": "markdown",
   "metadata": {},
   "source": [
    "The dir() tries to return  a list of valid attributes of the object.\n",
    "\n",
    "If the object has dir() method, the method will be called and must return the list os attributes.\n",
    "\n",
    "If the object dosen't have dir() method, this method tries to find information form the dirt attibute(if defined), and from type object.In this case, the list return from dir() may not be complete."
   ]
  },
  {
   "cell_type": "code",
   "execution_count": 8,
   "metadata": {},
   "outputs": [
    {
     "name": "stdout",
     "output_type": "stream",
     "text": [
      "['__add__', '__class__', '__contains__', '__delattr__', '__delitem__', '__dir__', '__doc__', '__eq__', '__format__', '__ge__', '__getattribute__', '__getitem__', '__gt__', '__hash__', '__iadd__', '__imul__', '__init__', '__init_subclass__', '__iter__', '__le__', '__len__', '__lt__', '__mul__', '__ne__', '__new__', '__reduce__', '__reduce_ex__', '__repr__', '__reversed__', '__rmul__', '__setattr__', '__setitem__', '__sizeof__', '__str__', '__subclasshook__', 'append', 'clear', 'copy', 'count', 'extend', 'index', 'insert', 'pop', 'remove', 'reverse', 'sort']\n",
      "46\n"
     ]
    }
   ],
   "source": [
    "number = [ 1,2,3,6,7]\n",
    "print(dir(number))\n",
    "print(len(dir(number)))"
   ]
  },
  {
   "cell_type": "markdown",
   "metadata": {},
   "source": [
    "# 4. divmod()"
   ]
  },
  {
   "cell_type": "markdown",
   "metadata": {},
   "source": [
    "The divmod() method takes two numbers and return a pair of number(a tuple) consisting of their quotient and remainder."
   ]
  },
  {
   "cell_type": "code",
   "execution_count": 11,
   "metadata": {},
   "outputs": [
    {
     "name": "stdout",
     "output_type": "stream",
     "text": [
      "(4, 4)\n"
     ]
    }
   ],
   "source": [
    "print(divmod(28,6))"
   ]
  },
  {
   "cell_type": "markdown",
   "metadata": {},
   "source": [
    "# 5. enumerate()"
   ]
  },
  {
   "cell_type": "markdown",
   "metadata": {},
   "source": [
    "The enumerate() method adds counter to an iterable and return it.\n",
    "\n",
    "syntax: enumerate(iterable, start= 0)"
   ]
  },
  {
   "cell_type": "code",
   "execution_count": 4,
   "metadata": {},
   "outputs": [
    {
     "name": "stdout",
     "output_type": "stream",
     "text": [
      "index -10 has value 10 \n",
      "index -9 has value 20 \n",
      "index -8 has value 30 \n",
      "index -7 has value 40 \n",
      "index -6 has value 50 \n",
      "index -5 has value 60 \n",
      "index -4 has value 70 \n"
     ]
    }
   ],
   "source": [
    "number = [10,20,30,40,50,60,70]\n",
    "\n",
    "for index, num in enumerate(number, start = -10):\n",
    "    print(\"index {0} has value {1} \".format(index,num))\n",
    " "
   ]
  },
  {
   "cell_type": "markdown",
   "metadata": {},
   "source": [
    "# 6. filter()"
   ]
  },
  {
   "cell_type": "markdown",
   "metadata": {},
   "source": [
    "The filter() method constructs an interator from elements of an iterable for which function returns true."
   ]
  },
  {
   "cell_type": "markdown",
   "metadata": {},
   "source": [
    "syntex: filter(function, iterable)"
   ]
  },
  {
   "cell_type": "code",
   "execution_count": 17,
   "metadata": {},
   "outputs": [],
   "source": [
    "def find_positive_number(num):\n",
    "    \"\"\"\n",
    "    The function return positive number if num is positive\n",
    "    \"\"\"\n",
    "    if num > 0:\n",
    "        return num"
   ]
  },
  {
   "cell_type": "code",
   "execution_count": 23,
   "metadata": {},
   "outputs": [
    {
     "name": "stdout",
     "output_type": "stream",
     "text": [
      "[-70, -69, -68, -67, -66, -65, -64, -63, -62, -61, -60, -59, -58, -57, -56, -55, -54, -53, -52, -51, -50, -49, -48, -47, -46, -45, -44, -43, -42, -41, -40, -39, -38, -37, -36, -35, -34, -33, -32, -31, -30, -29, -28, -27, -26, -25, -24, -23, -22, -21, -20, -19, -18, -17, -16, -15, -14, -13, -12, -11, -10, -9, -8, -7, -6, -5, -4, -3, -2, -1, 0, 1, 2, 3, 4, 5, 6, 7, 8, 9]\n",
      "\n",
      "[1, 2, 3, 4, 5, 6, 7, 8, 9]\n"
     ]
    }
   ],
   "source": [
    "number_list =  range(-70,10) # create  a list with number  from -30 to 40\n",
    "print(list(number_list))\n",
    "print(\"\")\n",
    "positive_number_list =  list(filter(find_positive_number, number_list))\n",
    "\n",
    "print(positive_number_list)"
   ]
  },
  {
   "cell_type": "markdown",
   "metadata": {},
   "source": [
    "# 7. isinstance()"
   ]
  },
  {
   "cell_type": "markdown",
   "metadata": {},
   "source": [
    "The isinstance() function checks if the objects(first argument) is an instance or subclass of classinfo class(second argument).\n",
    "\n",
    "syntex: isinstance(object, classinfo)"
   ]
  },
  {
   "cell_type": "code",
   "execution_count": 26,
   "metadata": {},
   "outputs": [
    {
     "name": "stdout",
     "output_type": "stream",
     "text": [
      "True\n",
      "True\n"
     ]
    }
   ],
   "source": [
    "lst = [1,2,3,4]\n",
    "print(isinstance(lst,list))\n",
    "\n",
    "# try with other datatype tuple,set\n",
    "t = (1)\n",
    "print(isinstance(t,int))"
   ]
  },
  {
   "cell_type": "markdown",
   "metadata": {},
   "source": [
    "# 8. map()"
   ]
  },
  {
   "cell_type": "markdown",
   "metadata": {},
   "source": [
    "Map applies a function to all  the items in an input_lst.\n",
    "\n",
    "syntax: map(function_to_apply, list_of_inputs)"
   ]
  },
  {
   "cell_type": "code",
   "execution_count": 31,
   "metadata": {},
   "outputs": [],
   "source": [
    "number = [1,2,3,4,5,7,8,9,10,11,12]\n",
    "\n",
    "# normal method of computing num^2 for each element in the list\n",
    "squared = []\n",
    "for num in number:\n",
    "    squared.append(num**2)"
   ]
  },
  {
   "cell_type": "code",
   "execution_count": 28,
   "metadata": {},
   "outputs": [
    {
     "name": "stdout",
     "output_type": "stream",
     "text": [
      "[1, 4, 16, 25, 36, 49, 64, 100, 121, 144, 169, 196]\n"
     ]
    }
   ],
   "source": [
    "number = [1,2,4,5,6,7,8,10,11,12,13,14]\n",
    "\n",
    "def powerOfTwo(num):\n",
    "    return num**2\n",
    "# using map function\n",
    "squared =  list(map(powerOfTwo, number))\n",
    "%timeit print(squared)"
   ]
  },
  {
   "cell_type": "markdown",
   "metadata": {},
   "source": [
    "# 9. reduce()"
   ]
  },
  {
   "cell_type": "markdown",
   "metadata": {},
   "source": [
    "The reduce() function is for performing some computation on a list and returning a result.\n",
    "\n",
    "It applies a rolling computation to sequential pairs of value in list."
   ]
  },
  {
   "cell_type": "code",
   "execution_count": 34,
   "metadata": {},
   "outputs": [
    {
     "name": "stdout",
     "output_type": "stream",
     "text": [
      "720\n"
     ]
    }
   ],
   "source": [
    "# product of element in the list\n",
    "product = 1\n",
    "lst = [1,2,3,4,5,6]\n",
    "\n",
    "# traditinal program without reduce()\n",
    "for num in lst:\n",
    "    product *= num\n",
    "print(product)\n",
    "#%timeit print(product)"
   ]
  },
  {
   "cell_type": "code",
   "execution_count": 1,
   "metadata": {},
   "outputs": [
    {
     "name": "stdout",
     "output_type": "stream",
     "text": [
      "720\n"
     ]
    }
   ],
   "source": [
    "# with reduce()\n",
    "from functools import reduce # python 3\n",
    "def multiply(x,y):\n",
    "    return x*y;\n",
    "\n",
    "lst = [1,2,3,4,5,6]\n",
    "product = reduce(multiply,lst)\n",
    "print(product)\n",
    "#%timeit print(product)"
   ]
  },
  {
   "cell_type": "markdown",
   "metadata": {},
   "source": [
    "# Note: \n",
    "    \n",
    "filter(), map(), reduce() are most used or importent build_in function for data_science purpose. Because these function simply avoid the use of for loop specialy in data_science."
   ]
  },
  {
   "cell_type": "markdown",
   "metadata": {},
   "source": [
    "# User Define Function:"
   ]
  },
  {
   "cell_type": "markdown",
   "metadata": {},
   "source": [
    "Function that we define ourselves to do certain specific task are referred as user-defined functions.\n",
    "\n",
    "If we use functions written by other in the form of library, it can be termed as libaray function."
   ]
  },
  {
   "cell_type": "markdown",
   "metadata": {},
   "source": [
    "# Advantages:"
   ]
  },
  {
   "cell_type": "markdown",
   "metadata": {},
   "source": [
    "1. User define functions help to decompose a large program into small segments which makes program to easy to understand, maintain and debug.\n",
    "2. If the repeated code occurs in a program. Function can be used to include those code and execute when needed by calling that function.\n",
    "3. Programmars working on large project can divide the workload by making different functions."
   ]
  },
  {
   "cell_type": "markdown",
   "metadata": {},
   "source": [
    "# Example:"
   ]
  },
  {
   "cell_type": "code",
   "execution_count": 1,
   "metadata": {},
   "outputs": [
    {
     "name": "stdout",
     "output_type": "stream",
     "text": [
      "product of 200 and 13 is 2600\n"
     ]
    }
   ],
   "source": [
    "def product_nums(a,b):\n",
    "    \"\"\"\n",
    "    This function return the product of two numbers\n",
    "    \"\"\"\n",
    "    product = a*b\n",
    "    return product\n",
    "\n",
    "num1 = 200\n",
    "num2 = 13\n",
    "print(\"product of {0} and {1} is {2}\".format(num1,num2,product_nums(num1,num2)))"
   ]
  },
  {
   "cell_type": "markdown",
   "metadata": {},
   "source": [
    "# Python Program to make a simple calculator that can add, subtract, multiplya and division."
   ]
  },
  {
   "cell_type": "code",
   "execution_count": 3,
   "metadata": {},
   "outputs": [
    {
     "name": "stdout",
     "output_type": "stream",
     "text": [
      "select option\n",
      "1. Addition\n",
      "2. Subtraction\n",
      "3. Multiplication\n",
      "4. division\n",
      "Enter the choice 1/2/3/43\n",
      "enter the value of num1 : 32\n",
      "enter the value of num2 : 2\n",
      "multiplication of 32.0 and 2.0 is 64.0\n"
     ]
    }
   ],
   "source": [
    "def add(a,b):\n",
    "    \"\"\"\n",
    "    This function add two numbers\n",
    "    \"\"\"\n",
    "    return a + b\n",
    "    \n",
    "def sub(a,b):\n",
    "    \"\"\"\n",
    "    This function subtract two numbers\n",
    "    \"\"\"\n",
    "    return a - b\n",
    "\n",
    "def mult(a,b):\n",
    "    \"\"\"\n",
    "    This function multiply two numbers\n",
    "    \"\"\"\n",
    "    return a * b\n",
    "def div(a,b):\n",
    "    \"\"\"\n",
    "    This function divide two numbers\n",
    "    \"\"\"\n",
    "    return a / b\n",
    "\n",
    "print(\"select option\")\n",
    "print(\"1. Addition\")\n",
    "print(\"2. Subtraction\")\n",
    "print(\"3. Multiplication\")\n",
    "print(\"4. division\")\n",
    "\n",
    "# take input form user\n",
    "choice = int(input(\"Enter the choice 1/2/3/4\"))\n",
    "\n",
    "num1 = float(input(\"enter the value of num1 : \"))\n",
    "num2 = float(input(\"enter the value of num2 : \"))\n",
    "\n",
    "if choice == 1:\n",
    "    print(\"Addition of {0} and {1} is {2}\".format(num1,num2,add(num1,num2)))\n",
    "elif choice == 2:\n",
    "    print(\"Subtraction of {0} and {1} is {2}\".format(num1,num2,sub(num1,num2)))\n",
    "elif choice == 3:\n",
    "    print(\"multiplication of {0} and {1} is {2}\".format(num1,num2,mult(num1,num2)))\n",
    "elif choice == 4:\n",
    "    print(\"Division of {0} and {1} is {2}\".format(num1,num2,div(num1,num2)))\n",
    "else:\n",
    "    print(\"Invalid choice\")"
   ]
  },
  {
   "cell_type": "code",
   "execution_count": 6,
   "metadata": {},
   "outputs": [
    {
     "name": "stdout",
     "output_type": "stream",
     "text": [
      "11\n"
     ]
    }
   ],
   "source": [
    "a = 50.00\n",
    "b = 6\n",
    "print(add(a,b))"
   ]
  },
  {
   "cell_type": "code",
   "execution_count": 12,
   "metadata": {},
   "outputs": [
    {
     "name": "stdout",
     "output_type": "stream",
     "text": [
      "5\n"
     ]
    }
   ],
   "source": []
  }
 ],
 "metadata": {
  "kernelspec": {
   "display_name": "Python 3",
   "language": "python",
   "name": "python3"
  },
  "language_info": {
   "codemirror_mode": {
    "name": "ipython",
    "version": 3
   },
   "file_extension": ".py",
   "mimetype": "text/x-python",
   "name": "python",
   "nbconvert_exporter": "python",
   "pygments_lexer": "ipython3",
   "version": "3.7.3"
  }
 },
 "nbformat": 4,
 "nbformat_minor": 2
}
