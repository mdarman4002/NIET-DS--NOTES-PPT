{
 "cells": [
  {
   "cell_type": "markdown",
   "metadata": {},
   "source": [
    "# Anonymous/ Lambda function"
   ]
  },
  {
   "cell_type": "markdown",
   "metadata": {},
   "source": [
    "In python, anonymous function is a function that defined without a name."
   ]
  },
  {
   "cell_type": "markdown",
   "metadata": {},
   "source": [
    "while normal functions are defined using def keyword, in python anonymous function are defined using lambda keyword.\n",
    "\n",
    "lambda function are used extensively along with built-in function lile filter(), map().\n",
    "\n",
    "syntax:\n",
    "\n",
    "    lambda argument: expression"
   ]
  },
  {
   "cell_type": "code",
   "execution_count": 4,
   "metadata": {},
   "outputs": [
    {
     "name": "stdout",
     "output_type": "stream",
     "text": [
      "10\n"
     ]
    }
   ],
   "source": [
    "double = lambda x: x*2\n",
    "print(double(5))"
   ]
  },
  {
   "cell_type": "code",
   "execution_count": 5,
   "metadata": {},
   "outputs": [
    {
     "name": "stdout",
     "output_type": "stream",
     "text": [
      "10\n"
     ]
    }
   ],
   "source": [
    "def double(x):\n",
    "    return x*2\n",
    "print(double(5))"
   ]
  },
  {
   "cell_type": "code",
   "execution_count": 1,
   "metadata": {},
   "outputs": [
    {
     "name": "stdout",
     "output_type": "stream",
     "text": [
      "[0, 2, 4, 6, 8, 10, 12]\n"
     ]
    }
   ],
   "source": [
    "# Example use with Fillter()\n",
    "lst = [0,1,2,3,4,5,6,7,8,9,10,11,12]\n",
    "even_lst = list(filter(lambda x:( x % 2 == 0),lst))   # filter( function_name,sequence)\n",
    "print(even_lst)"
   ]
  },
  {
   "cell_type": "code",
   "execution_count": 9,
   "metadata": {},
   "outputs": [
    {
     "name": "stdout",
     "output_type": "stream",
     "text": [
      "[1, 8, 27, 64, 125, 216, 343, 512]\n"
     ]
    }
   ],
   "source": [
    "# Example use with map()\n",
    "lst = [1,2,3,4,5,6,7,8]\n",
    "new_lst = list(map(lambda x : x**3 ,lst))  # map(function_name, sequence)\n",
    "print(new_lst)"
   ]
  },
  {
   "cell_type": "code",
   "execution_count": 11,
   "metadata": {},
   "outputs": [
    {
     "name": "stdout",
     "output_type": "stream",
     "text": [
      "720\n"
     ]
    }
   ],
   "source": [
    "# Example function with reduce()\n",
    "\n",
    "from functools import reduce\n",
    "\n",
    "lst = [1,2,3,4,5,6]\n",
    "product_lst = reduce(lambda x , y : x*y,lst)\n",
    "print(product_lst)"
   ]
  },
  {
   "cell_type": "code",
   "execution_count": null,
   "metadata": {},
   "outputs": [],
   "source": []
  }
 ],
 "metadata": {
  "kernelspec": {
   "display_name": "Python 3 (ipykernel)",
   "language": "python",
   "name": "python3"
  },
  "language_info": {
   "codemirror_mode": {
    "name": "ipython",
    "version": 3
   },
   "file_extension": ".py",
   "mimetype": "text/x-python",
   "name": "python",
   "nbconvert_exporter": "python",
   "pygments_lexer": "ipython3",
   "version": "3.9.7"
  }
 },
 "nbformat": 4,
 "nbformat_minor": 2
}
