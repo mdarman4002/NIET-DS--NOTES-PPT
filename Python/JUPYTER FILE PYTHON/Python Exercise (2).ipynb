{
 "cells": [
  {
   "cell_type": "markdown",
   "metadata": {},
   "source": [
    "# Python Exercise: Find numbers which are divisible by 7 and multiple of 5 between a range"
   ]
  },
  {
   "cell_type": "code",
   "execution_count": 3,
   "metadata": {},
   "outputs": [
    {
     "name": "stdout",
     "output_type": "stream",
     "text": [
      "[231, 462, 693, 924]\n"
     ]
    }
   ],
   "source": [
    "a = [] # empty list\n",
    "for i in range(1 ,1000):\n",
    "    if (i % 5 == 0) and ( i % 7 == 0):\n",
    "        a.append(i)\n",
    "print(a)"
   ]
  },
  {
   "cell_type": "code",
   "execution_count": 5,
   "metadata": {},
   "outputs": [
    {
     "name": "stdout",
     "output_type": "stream",
     "text": [
      "['35', '70']\n",
      "35,70\n"
     ]
    }
   ],
   "source": [
    "a = []\n",
    "for i in range(1,100):\n",
    "    if (i % 7 == 0) and ( i % 5 == 0):\n",
    "        a.append(str(i))\n",
    "print(a)\n",
    "\n",
    "\n",
    "print(','.join(a))"
   ]
  },
  {
   "cell_type": "code",
   "execution_count": 9,
   "metadata": {},
   "outputs": [
    {
     "name": "stdout",
     "output_type": "stream",
     "text": [
      "35\n",
      "70\n",
      "105\n",
      "140\n",
      "175\n",
      "210\n",
      "245\n",
      "280\n",
      "315\n",
      "350\n",
      "385\n",
      "420\n",
      "455\n",
      "490\n",
      "525\n",
      "560\n",
      "595\n",
      "630\n",
      "665\n",
      "700\n",
      "735\n",
      "770\n",
      "805\n",
      "840\n",
      "875\n",
      "910\n",
      "945\n",
      "980\n",
      "1015\n",
      "1050\n",
      "1085\n",
      "1120\n",
      "1155\n",
      "1190\n",
      "1225\n",
      "1260\n",
      "1295\n",
      "1330\n",
      "1365\n",
      "1400\n",
      "1435\n",
      "1470\n",
      "1505\n",
      "1540\n",
      "1575\n",
      "1610\n",
      "1645\n",
      "1680\n",
      "1715\n",
      "1750\n",
      "1785\n",
      "1820\n",
      "1855\n",
      "1890\n",
      "1925\n",
      "1960\n",
      "1995\n",
      "2030\n",
      "2065\n",
      "2100\n",
      "2135\n",
      "2170\n",
      "2205\n",
      "2240\n",
      "2275\n",
      "2310\n",
      "2345\n",
      "2380\n",
      "2415\n",
      "2450\n",
      "2485\n",
      "2520\n",
      "2555\n",
      "2590\n",
      "2625\n",
      "2660\n",
      "2695\n",
      "2730\n",
      "2765\n",
      "2800\n",
      "2835\n",
      "2870\n",
      "2905\n",
      "2940\n",
      "2975\n",
      "3010\n",
      "3045\n",
      "3080\n",
      "3115\n",
      "3150\n",
      "3185\n",
      "3220\n",
      "3255\n",
      "3290\n",
      "3325\n",
      "3360\n",
      "3395\n",
      "3430\n",
      "3465\n"
     ]
    }
   ],
   "source": [
    "a = 7\n",
    "b = 5\n",
    "c = a * b\n",
    "for i in range (1,100):\n",
    "    if c < 100:\n",
    "        print(i*c)"
   ]
  },
  {
   "cell_type": "markdown",
   "metadata": {},
   "source": [
    "# Python Exercise: Fibonacci series between 0 to 50"
   ]
  },
  {
   "cell_type": "code",
   "execution_count": 1,
   "metadata": {},
   "outputs": [
    {
     "name": "stdout",
     "output_type": "stream",
     "text": [
      "0\n",
      "1\n",
      "1\n",
      "2\n",
      "3\n",
      "5\n",
      "8\n",
      "13\n",
      "21\n",
      "34\n"
     ]
    }
   ],
   "source": [
    "x,y=0,1\n",
    "while (x<50):  # 3<50\n",
    "    print(x)   # 0,1,1,2,3\n",
    "    x,y = y,x+y # x =5, y =3+5 =8"
   ]
  },
  {
   "cell_type": "markdown",
   "metadata": {},
   "source": [
    "# Python Exercise:checking whether the given character is an alphabet, digit or a special character"
   ]
  },
  {
   "cell_type": "code",
   "execution_count": 10,
   "metadata": {},
   "outputs": [
    {
     "name": "stdout",
     "output_type": "stream",
     "text": [
      " Enter the Character: %\n",
      "The ASCII value of % is 37\n",
      " Print given character is Spacial symble:  %\n"
     ]
    }
   ],
   "source": [
    "chr = input(\" Enter the Character: \")\n",
    "\n",
    "print(\"The ASCII value of \" + chr + \" is\", ord(chr))  # ord used to present the ASCII value of give character.\n",
    "\n",
    "if ((ord(chr) >= 0) and (ord(chr) < 48)) or ((57 < ord(chr)) and (ord(chr) < 65)) or ((122 < ord(chr)) and (ord(chr)<128)):\n",
    "    print(\" Print given character is Spacial symble: \",chr)\n",
    "    \n",
    "elif ((64 < ord(chr)) and (ord(chr) < 91)) or ((96 < ord(chr)) and (ord(chr) < 123)):\n",
    "    print(\"Print given character is Alphabet: \",chr)\n",
    "    \n",
    "else:\n",
    "    print(\"Print given character is Digit: \",chr)"
   ]
  },
  {
   "cell_type": "markdown",
   "metadata": {},
   "source": [
    "# Ternary Operator in Python"
   ]
  },
  {
   "cell_type": "markdown",
   "metadata": {},
   "source": [
    "Syntax:\n",
    "    \n",
    "    [on_true] if [expression / test condition] else [on_false] "
   ]
  },
  {
   "cell_type": "code",
   "execution_count": 21,
   "metadata": {},
   "outputs": [
    {
     "name": "stdout",
     "output_type": "stream",
     "text": [
      "Enter the number: 19\n",
      "Given number is odd\n"
     ]
    }
   ],
   "source": [
    "num = int(input(\"Enter the number: \"))\n",
    "print(\"Given number is even\") if (num % 2 == 0) else print(\"Given number is odd\")"
   ]
  },
  {
   "cell_type": "markdown",
   "metadata": {},
   "source": [
    "# Sum Of Two Binary Numbers"
   ]
  },
  {
   "cell_type": "code",
   "execution_count": 23,
   "metadata": {},
   "outputs": [
    {
     "name": "stdout",
     "output_type": "stream",
     "text": [
      "110101\n",
      "001100\n",
      "1000001\n"
     ]
    }
   ],
   "source": [
    "a = \"110101\"\n",
    "b = \"1100\"\n",
    "max_len = max(len(a), len(b))\n",
    "a = a.zfill(max_len)   #The zfill() method adds zeros (0) at the beginning of the string, until it reaches the specified length  \n",
    "b = b.zfill(max_len)\n",
    "print(a)\n",
    "print(b)\n",
    "\n",
    "result = ''\n",
    "  \n",
    "carry = 0\n",
    "  \n",
    "# Traverse the string\n",
    "for i in range(max_len - 1, -1, -1):\n",
    "    r = carry\n",
    "    r += 1 if a[i] == '1' else 0\n",
    "    r += 1 if b[i] == '1' else 0\n",
    "    result = ('1' if r % 2 == 1 else '0') + result\n",
    "  \n",
    "    # Compute the carry.\n",
    "    carry = 0 if r < 2 else 1  \n",
    "\n",
    "if carry != 0:\n",
    "    result = '1' + result  \n",
    "    \n",
    "print(result.zfill(max_len))\n",
    "\n"
   ]
  },
  {
   "cell_type": "code",
   "execution_count": 24,
   "metadata": {},
   "outputs": [
    {
     "name": "stdout",
     "output_type": "stream",
     "text": [
      "0b1101101\n",
      "1101101\n"
     ]
    }
   ],
   "source": [
    "a = \"1101001\"\n",
    "b = \"100\"\n",
    "sum = bin(int(a,2) + int(b,2)) #The bin() function is used to convert an integer number to a binary string.\n",
    "print(sum[:])\n",
    "print(sum[2:])\n"
   ]
  },
  {
   "cell_type": "markdown",
   "metadata": {},
   "source": [
    "# Python Exercise: To check the perfact number"
   ]
  },
  {
   "cell_type": "markdown",
   "metadata": {},
   "source": [
    "a perfect number is a positive integer that is equal to the sum of its positive divisors, excluding the number itself."
   ]
  },
  {
   "cell_type": "code",
   "execution_count": 12,
   "metadata": {},
   "outputs": [
    {
     "name": "stdout",
     "output_type": "stream",
     "text": [
      "Enter any number: 28\n",
      "1\n",
      "2\n",
      "4\n",
      "7\n",
      "14\n",
      "The number is a Perfect number!\n"
     ]
    }
   ],
   "source": [
    "n = int(input(\"Enter any number: \"))\n",
    "sum1 = 0\n",
    "a = int(n/2)\n",
    "for i in range(1, a+1):\n",
    "    if(n % i == 0):\n",
    "        print(i)\n",
    "        sum1 = sum1 + i\n",
    "if (sum1 == n):\n",
    "    print(\"The number is a Perfect number!\")\n",
    "else:\n",
    "    print(\"The number is not a Perfect number!\")"
   ]
  },
  {
   "cell_type": "markdown",
   "metadata": {},
   "source": [
    "# Python Exercise:Find sum of digits in factorial of a number"
   ]
  },
  {
   "cell_type": "code",
   "execution_count": 2,
   "metadata": {},
   "outputs": [
    {
     "name": "stdout",
     "output_type": "stream",
     "text": [
      "enter any number: 5\n",
      "5\n",
      "20\n",
      "60\n",
      "120\n",
      "factorial of a number is 120\n"
     ]
    }
   ],
   "source": [
    "a = int(input(\"enter any number: \"))\n",
    "x = a\n",
    "for i in range(1,a):\n",
    "    print(x)\n",
    "    x = x * (a-i) #  5 = 5*4 = 20 *3 = 60 * 2= 120 * 1= 120\n",
    "print(\"factorial of a number is \" + str(x))"
   ]
  },
  {
   "cell_type": "markdown",
   "metadata": {},
   "source": [
    "# Python Exercise: To print the index of duplocate elements in list"
   ]
  },
  {
   "cell_type": "code",
   "execution_count": 19,
   "metadata": {},
   "outputs": [
    {
     "name": "stdout",
     "output_type": "stream",
     "text": [
      "2\n",
      "7\n"
     ]
    }
   ],
   "source": [
    "my_list = [10,2,3,5,2,1,6,3,5,2,2] \n",
    "a = 3 # element to be found \n",
    "for index in range(len(my_list)):#traversing thro length of the list \n",
    "    if my_list[index] == a: \n",
    "        print(index) "
   ]
  },
  {
   "cell_type": "markdown",
   "metadata": {},
   "source": [
    "# Display letter of the word in Pattern"
   ]
  },
  {
   "cell_type": "code",
   "execution_count": 3,
   "metadata": {},
   "outputs": [
    {
     "name": "stdout",
     "output_type": "stream",
     "text": [
      "H\n",
      "HA\n",
      "HAR\n",
      "HARS\n",
      "HARSH\n"
     ]
    }
   ],
   "source": [
    "str1 = \"HARSH\"  \n",
    "x = \"\"  \n",
    "for i in str1:  \n",
    "    x += i  # x = HAR\n",
    "    print(x)  "
   ]
  },
  {
   "cell_type": "markdown",
   "metadata": {},
   "source": [
    "# print simple reversed right angle pyramid pattern "
   ]
  },
  {
   "cell_type": "code",
   "execution_count": 12,
   "metadata": {},
   "outputs": [
    {
     "name": "stdout",
     "output_type": "stream",
     "text": [
      "Enter the number of rows:5\n",
      "1 \n",
      "2 3 \n",
      "4 5 6 \n",
      "7 8 9 10 \n",
      "11 12 13 14 15 \n"
     ]
    }
   ],
   "source": [
    "rows = int(input(\"Enter the number of rows:\"))   # It is used for number of spaces\n",
    "k = 1\n",
    "for i in range(0, rows): \n",
    "    for j in range(0,i+1):\n",
    "        print(k,end =\" \")\n",
    "        k = k+1\n",
    "    print()\n",
    "                                                                            "
   ]
  },
  {
   "cell_type": "code",
   "execution_count": 20,
   "metadata": {},
   "outputs": [
    {
     "name": "stdout",
     "output_type": "stream",
     "text": [
      "Enter the number of rows:7\n",
      "            * \n",
      "          * * \n",
      "        * * * \n",
      "      * * * * \n",
      "    * * * * * \n",
      "  * * * * * * \n",
      "* * * * * * * \n"
     ]
    }
   ],
   "source": [
    "rows = int(input(\"Enter the number of rows:\"))  \n",
    "k = 2 * rows - 2  # It is used for number of spaces  \n",
    "for i in range(0, rows):  \n",
    "    for j in range(0, k):  \n",
    "        print(end=\" \")  \n",
    "    k = k - 2   # decrement k value after each iteration  \n",
    "    for j in range(0, i + 1):  \n",
    "        print(\"* \", end=\"\")  # printing star  \n",
    "    print(\"\")  "
   ]
  },
  {
   "cell_type": "markdown",
   "metadata": {},
   "source": [
    "# To capitalize the first letter of each word in a string"
   ]
  },
  {
   "cell_type": "code",
   "execution_count": 5,
   "metadata": {},
   "outputs": [
    {
     "name": "stdout",
     "output_type": "stream",
     "text": [
      "I Am Harsh Raj Singh\n",
      " Harsh Raj Singh\n"
     ]
    }
   ],
   "source": [
    "sample_text = \"i am harsh raj singh\"\n",
    "a = \" HARSH RAJ SINGH\"\n",
    "\n",
    "# Capitalize the first letter of each word i.e.\n",
    "\n",
    "# Convert the first letter of each word to Upper case and all other to lower case\n",
    "\n",
    "result = sample_text.title()\n",
    "A = a.title()\n",
    "print(result)\n",
    "print(A)"
   ]
  },
  {
   "cell_type": "code",
   "execution_count": 6,
   "metadata": {},
   "outputs": [
    {
     "name": "stdout",
     "output_type": "stream",
     "text": [
      "A33A. It'S Gone Too Far\n"
     ]
    }
   ],
   "source": [
    "sample_text = \"a33a. it's GONE too far\"\n",
    "# Capitalize the first letter of each word\n",
    "result = sample_text.title()\n",
    "print(result)"
   ]
  },
  {
   "cell_type": "markdown",
   "metadata": {},
   "source": [
    "sample_text = \"33a. it's GONE too far\"\n",
    "result = ' '.join(elem.capitalize() for elem in sample_text.split())\n",
    "print(result)"
   ]
  },
  {
   "cell_type": "code",
   "execution_count": 7,
   "metadata": {},
   "outputs": [
    {
     "name": "stdout",
     "output_type": "stream",
     "text": [
      "33a. It's Gone Too Far\n",
      "I M Harsh Raj Singh\n"
     ]
    }
   ],
   "source": [
    "import string\n",
    "sample_text = \"33a. it's gone tOO far\"\n",
    "a = \"i m harsh raj singh\"\n",
    "result = string.capwords(sample_text)\n",
    "a = string.capwords(a) \n",
    "\n",
    "print(result)\n",
    "print(a)"
   ]
  },
  {
   "cell_type": "markdown",
   "metadata": {},
   "source": [
    "# Print a Floyd’s Triangle Pattern"
   ]
  },
  {
   "cell_type": "markdown",
   "metadata": {},
   "source": [
    "Floyd's triangle is a triangular array of natural numbers, used in computer science education. It is named after Robert Floyd. It is defined by filling the rows of the triangle with consecutive numbers, starting with a 1 in the top left corner:\n",
    "\n",
    "1\n",
    "\n",
    "2\t3\n",
    "\n",
    "4\t5\t6\n",
    "\n",
    "7\t8\t9\t10\n",
    "\n",
    "11\t12\t13\t14\t15\n"
   ]
  },
  {
   "cell_type": "code",
   "execution_count": 9,
   "metadata": {},
   "outputs": [
    {
     "name": "stdout",
     "output_type": "stream",
     "text": [
      "Enter the range: \t 7\n",
      "\n",
      "FLOYD'S TRIANGLE with numbers: \n",
      "\n",
      "1 \n",
      "2 3 \n",
      "4 5 6 \n",
      "7 8 9 10 \n",
      "11 12 13 14 15 \n",
      "16 17 18 19 20 21 \n",
      "22 23 24 25 26 27 28 \n",
      "\n",
      "\n",
      "\n",
      "FLOYD'S TRIANGLE with *'s: \n",
      "\n",
      "* \n",
      "* * \n",
      "* * * \n",
      "* * * * \n",
      "* * * * * \n",
      "* * * * * * \n",
      "* * * * * * * \n",
      "\n",
      "\n"
     ]
    }
   ],
   "source": [
    "# Range of the triangle\n",
    "size = int(input(\"Enter the range: \\t \"))\n",
    "print(\"\\nFLOYD'S TRIANGLE with numbers: \\n\")\n",
    "k = 1\n",
    "# 2 for loops, one for column looping another for row looping\n",
    "# i loop for column looping and j loop for row looping\n",
    "for i in range(1, size + 1):\n",
    "    for j in range(1, i + 1):\n",
    "        print(k, end=\" \")\n",
    "        k = k + 1\n",
    "    print()\n",
    "print(\"\\n\")\n",
    "\"\"\"print(\"\\nFLOYD'S TRIANGLE with *'s: \\n\")\n",
    "for i in range(1, size + 1):\n",
    "    for j in range(1, i + 1):\n",
    "        print('*', end=\" \")\n",
    "    print()\n",
    "print(\"\\n\")\"\"\""
   ]
  },
  {
   "cell_type": "code",
   "execution_count": 11,
   "metadata": {},
   "outputs": [
    {
     "name": "stdout",
     "output_type": "stream",
     "text": [
      "Enter the values of raw10\n",
      "A  \n",
      "B C  \n",
      "D E F  \n",
      "G H I J  \n",
      "K L M N O  \n",
      "P Q R S T U  \n",
      "V W X Y Z [ \\  \n",
      "] ^ _ ` a b c d  \n",
      "e f g h i j k l m  \n",
      "n o p q r s t u v w  \n"
     ]
    }
   ],
   "source": [
    "# ASCII number of 'A'\n",
    "ascii_number = 65\n",
    "rows = int(input(\"Enter the values of raw\"))\n",
    "for i in range(0, rows):\n",
    "    for j in range(0, i + 1):\n",
    "        character = chr(ascii_number)\n",
    "        print(character, end=' ')\n",
    "        ascii_number += 1\n",
    "    print(\" \")"
   ]
  },
  {
   "cell_type": "markdown",
   "metadata": {},
   "source": [
    "# Equilateral triangle pattern of characters/alphabets"
   ]
  },
  {
   "cell_type": "code",
   "execution_count": 1,
   "metadata": {},
   "outputs": [
    {
     "name": "stdout",
     "output_type": "stream",
     "text": [
      "Print equilateral triangle Pyramid with characters \n",
      "        A  \n",
      "       B C  \n",
      "      D E F  \n",
      "     G H I J  \n",
      "    K L M N O  \n"
     ]
    }
   ],
   "source": [
    "print(\"Print equilateral triangle Pyramid with characters \")\n",
    "size = 5\n",
    "asciiNumber = 65  #66\n",
    "m = (2 * size) - 2 # m =18 = 17 =16\n",
    "for i in range(0, size): # raw\n",
    "    for j in range(0, m): # column\n",
    "        print(end=\" \")\n",
    "    m = m - 1\n",
    "    for j in range(0, i + 1):\n",
    "        character = chr(asciiNumber)\n",
    "        print(character, end=' ')\n",
    "        asciiNumber += 1\n",
    "    print(\" \")\n",
    "    "
   ]
  },
  {
   "cell_type": "markdown",
   "metadata": {},
   "source": [
    "# Pyramid of horizontal number tables"
   ]
  },
  {
   "cell_type": "code",
   "execution_count": 3,
   "metadata": {},
   "outputs": [
    {
     "name": "stdout",
     "output_type": "stream",
     "text": [
      "1 \n",
      "2 4 \n",
      "3 6 9 \n",
      "4 8 12 16 \n",
      "5 10 15 20 25 \n",
      "6 12 18 24 30 36 \n",
      "7 14 21 28 35 42 49 \n",
      "8 16 24 32 40 48 56 64 \n",
      "9 18 27 36 45 54 63 72 81 \n",
      "10 20 30 40 50 60 70 80 90 100 \n"
     ]
    }
   ],
   "source": [
    "# Pyramid of horizontal tables of numbers\n",
    "rows = 10\n",
    "for i in range(1, rows + 1):\n",
    "    for j in range(1, i + 1):\n",
    "        print(i * j, end=' ')\n",
    "    print()"
   ]
  },
  {
   "cell_type": "markdown",
   "metadata": {},
   "source": [
    "# Double the number pattern"
   ]
  },
  {
   "cell_type": "code",
   "execution_count": 1,
   "metadata": {},
   "outputs": [
    {
     "name": "stdout",
     "output_type": "stream",
     "text": [
      "   1 \n",
      "   2    1 \n",
      "   4    2    1 \n",
      "   8    4    2    1 \n",
      "  16    8    4    2    1 \n",
      "  32   16    8    4    2    1 \n",
      "  64   32   16    8    4    2    1 \n",
      " 128   64   32   16    8    4    2    1 \n"
     ]
    }
   ],
   "source": [
    "rows = 9\n",
    "for i in range(1, rows):\n",
    "    for j in range(-1 + i, -1, -1):   # j=(3,-1,-1)\n",
    "        print(format(2 ** j, \"4d\"), end=' ')\n",
    "    print(\"\")"
   ]
  },
  {
   "cell_type": "markdown",
   "metadata": {},
   "source": [
    "# Random number pattern"
   ]
  },
  {
   "cell_type": "code",
   "execution_count": 3,
   "metadata": {},
   "outputs": [
    {
     "name": "stdout",
     "output_type": "stream",
     "text": [
      "   1 \n",
      "   1    2    1 \n",
      "   1    2    4    2    1 \n",
      "   1    2    4    8    4    2    1 \n",
      "   1    2    4    8   16    8    4    2    1 \n",
      "   1    2    4    8   16   32   16    8    4    2    1 \n",
      "   1    2    4    8   16   32   64   32   16    8    4    2    1 \n",
      "   1    2    4    8   16   32   64  128   64   32   16    8    4    2    1 \n"
     ]
    }
   ],
   "source": [
    "rows = 9\n",
    "for i in range(1, rows):\n",
    "    for i in range(0, i, 1):\n",
    "        print(format(2 ** i, \"4d\"), end=' ')\n",
    "    for i in range(-1 + i, -1, -1):\n",
    "        print(format(2 ** i, \"4d\"), end=' ')\n",
    "    print(\"\")"
   ]
  },
  {
   "cell_type": "code",
   "execution_count": 2,
   "metadata": {},
   "outputs": [
    {
     "name": "stdout",
     "output_type": "stream",
     "text": [
      "2 is a factor of 28\n"
     ]
    }
   ],
   "source": [
    "m = 2\n",
    "n = 28\n",
    "lst = []\n",
    "\n",
    "'''for i in range(1,n+1):\n",
    "    if n%i==0:\n",
    "        lst.append(i)\n",
    "if m in lst:\n",
    "    print(m,\"is a factor of\",n)\n",
    "else:\n",
    "    print(m,\"is not  a factor of\",n)\n",
    "    '''"
   ]
  },
  {
   "cell_type": "code",
   "execution_count": 5,
   "metadata": {},
   "outputs": [
    {
     "name": "stdout",
     "output_type": "stream",
     "text": [
      "Enter a number2\n",
      "number is strong number\n"
     ]
    }
   ],
   "source": [
    "n = input(\"Enter a number\")\n",
    "a = int(n)\n",
    "sum = 0\n",
    "while(a!=0):  # 124  = 4\n",
    "    rem = a % 10\n",
    "    b = 1\n",
    "    while(rem!=0):\n",
    "        b = b*rem\n",
    "        rem -=1        \n",
    "    sum= sum+b\n",
    "    a //=10\n",
    "if int(n)== sum:\n",
    "    print(\"number is strong number\")\n",
    "else:\n",
    "    print(\"number is not a strong number\")\n",
    "    \n",
    "    \n",
    "    \n",
    "    "
   ]
  },
  {
   "cell_type": "code",
   "execution_count": 10,
   "metadata": {},
   "outputs": [
    {
     "name": "stdout",
     "output_type": "stream",
     "text": [
      "[3, 4, 5, 6, 10]\n"
     ]
    }
   ],
   "source": [
    "t = [4,10,3,6,5]\n",
    "#r = sorted(t)\n",
    "#print(r)\n",
    "t.sort()\n",
    "print(t)"
   ]
  }
 ],
 "metadata": {
  "kernelspec": {
   "display_name": "Python 3",
   "language": "python",
   "name": "python3"
  },
  "language_info": {
   "codemirror_mode": {
    "name": "ipython",
    "version": 3
   },
   "file_extension": ".py",
   "mimetype": "text/x-python",
   "name": "python",
   "nbconvert_exporter": "python",
   "pygments_lexer": "ipython3",
   "version": "3.7.3"
  }
 },
 "nbformat": 4,
 "nbformat_minor": 2
}
